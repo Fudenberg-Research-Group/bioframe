{
 "cells": [
  {
   "cell_type": "markdown",
   "metadata": {},
   "source": [
    "# Performance"
   ]
  },
  {
   "cell_type": "markdown",
   "metadata": {},
   "source": [
    "This notebook illustrates performance of typical use cases for bioframe on sets of randomly generated intervals."
   ]
  },
  {
   "cell_type": "code",
   "execution_count": 2,
   "metadata": {},
   "outputs": [],
   "source": [
    "import platform\n",
    "import psutil\n",
    "\n",
    "import numpy as np\n",
    "import pandas as pd\n",
    "import matplotlib.pyplot as plt\n",
    "plt.rcParams['figure.facecolor']='white'\n",
    "plt.rcParams['font.size']=16\n",
    "\n",
    "import bioframe\n",
    "import pyranges"
   ]
  },
  {
   "cell_type": "code",
   "execution_count": 3,
   "metadata": {},
   "outputs": [
    {
     "name": "stdout",
     "output_type": "stream",
     "text": [
      "Bioframe v.0.3.2\n",
      "PyRanges v.0.0.115\n",
      "System Platform: macOS-10.15.7-x86_64-i386-64bit\n",
      "4 CPUs at 2300 GHz\n"
     ]
    }
   ],
   "source": [
    "print(f\"Bioframe v.{bioframe.__version__}\")\n",
    "print(f\"PyRanges v.{pyranges.__version__}\")\n",
    "print(f\"System Platform: {platform.platform()}\")\n",
    "print(f\"{psutil.cpu_count()} CPUs at {psutil.cpu_freq().current:.0f} GHz\") "
   ]
  },
  {
   "cell_type": "markdown",
   "metadata": {},
   "source": [
    "Below we define a function to generate random intervals with various properties, returning a dataframe of intervals."
   ]
  },
  {
   "cell_type": "code",
   "execution_count": 4,
   "metadata": {},
   "outputs": [],
   "source": [
    "def make_random_intervals(\n",
    "        n=1e5, \n",
    "        n_chroms=1, \n",
    "        max_coord=None, \n",
    "        max_length=10, \n",
    "        sort=False,\n",
    "        categorical_chroms=False,\n",
    "        \n",
    "    ):\n",
    "    n = int(n)\n",
    "    n_chroms = int(n_chroms)\n",
    "    max_coord = (n // n_chroms) if max_coord is None else int(max_coord)\n",
    "    max_length = int(max_length)\n",
    "    \n",
    "    chroms = np.array(['chr'+str(i+1) for i in range(n_chroms)])[\n",
    "        np.random.randint(0, n_chroms, n)]\n",
    "    starts = np.random.randint(0, max_coord, n)\n",
    "    ends = starts + np.random.randint(0, max_length, n)\n",
    "\n",
    "    df = pd.DataFrame({\n",
    "        'chrom':chroms,\n",
    "        'start':starts,\n",
    "        'end':ends\n",
    "    })\n",
    "    \n",
    "    if categorical_chroms:\n",
    "        df['chrom'] = df['chrom'].astype('category')\n",
    "\n",
    "    if sort:\n",
    "        df = df.sort_values(['chrom','start','end']).reset_index(drop=True)\n",
    "        \n",
    "    return df\n"
   ]
  },
  {
   "cell_type": "markdown",
   "metadata": {},
   "source": [
    "## Overlap"
   ]
  },
  {
   "cell_type": "markdown",
   "metadata": {},
   "source": [
    "In this chapter we characterize the performance of the key function, `bioframe.overlap`. We show that the speed depends on:\n",
    "- the number of intervals\n",
    "- number of intersections (or density of intervals)\n",
    "- type of overlap (inner, outer, left)\n",
    "- dtype of chromosomes"
   ]
  },
  {
   "cell_type": "markdown",
   "metadata": {},
   "source": [
    "### vs number of intervals"
   ]
  },
  {
   "cell_type": "code",
   "execution_count": 4,
   "metadata": {},
   "outputs": [
    {
     "name": "stdout",
     "output_type": "stream",
     "text": [
      "26.8 ms ± 0 ns per loop (mean ± std. dev. of 1 run, 10 loops each)\n",
      "57 ms ± 0 ns per loop (mean ± std. dev. of 1 run, 10 loops each)\n",
      "128 ms ± 0 ns per loop (mean ± std. dev. of 1 run, 10 loops each)\n",
      "2.38 s ± 0 ns per loop (mean ± std. dev. of 1 run, 1 loop each)\n",
      "26.7 s ± 0 ns per loop (mean ± std. dev. of 1 run, 1 loop each)\n"
     ]
    }
   ],
   "source": [
    "timings = {}\n",
    "for n in [1e2, 1e3, 1e4, 1e5, 1e6]:\n",
    "    df = make_random_intervals(n=n, n_chroms=1)\n",
    "    df2 = make_random_intervals(n=n, n_chroms=1)\n",
    "    timings[n] = %timeit -o -r 1 bioframe.overlap(df, df2)"
   ]
  },
  {
   "cell_type": "code",
   "execution_count": 5,
   "metadata": {},
   "outputs": [
    {
     "data": {
      "image/png": "[encoded data removed]",
      "text/plain": [
       "<Figure size 432x288 with 1 Axes>"
      ]
     },
     "metadata": {},
     "output_type": "display_data"
    }
   ],
   "source": [
    "plt.loglog(\n",
    "    list(timings.keys()),\n",
    "    list([r.average for r in timings.values()]),\n",
    "    'o-',\n",
    ")\n",
    "plt.xlabel('N intervals')\n",
    "plt.ylabel('time, seconds')\n",
    "plt.gca().set_aspect(1.0)\n",
    "plt.grid()"
   ]
  },
  {
   "cell_type": "markdown",
   "metadata": {},
   "source": [
    "### vs total number of intersections"
   ]
  },
  {
   "cell_type": "markdown",
   "metadata": {},
   "source": [
    "Note that not only the number of intervals, but also the density of intervals determines the performance of overlap. "
   ]
  },
  {
   "cell_type": "code",
   "execution_count": 6,
   "metadata": {},
   "outputs": [
    {
     "name": "stdout",
     "output_type": "stream",
     "text": [
      "81.4 ms ± 0 ns per loop (mean ± std. dev. of 1 run, 10 loops each)\n",
      "268 ms ± 0 ns per loop (mean ± std. dev. of 1 run, 10 loops each)\n",
      "628 ms ± 0 ns per loop (mean ± std. dev. of 1 run, 1 loop each)\n",
      "2.08 s ± 0 ns per loop (mean ± std. dev. of 1 run, 1 loop each)\n",
      "8.6 s ± 0 ns per loop (mean ± std. dev. of 1 run, 1 loop each)\n"
     ]
    }
   ],
   "source": [
    "timings = {}\n",
    "n_intersections = {}\n",
    "n = 1e4\n",
    "for avg_interval_len in [3, 1e1, 3e1, 1e2, 3e2]:\n",
    "    df = make_random_intervals(n=n, n_chroms=1, max_length=avg_interval_len*2)\n",
    "    df2 = make_random_intervals(n=n, n_chroms=1, max_length=avg_interval_len*2)\n",
    "    timings[avg_interval_len] = %timeit -o -r 1 bioframe.overlap(df, df2)\n",
    "    n_intersections[avg_interval_len] = bioframe.overlap(df, df2).shape[0]"
   ]
  },
  {
   "cell_type": "code",
   "execution_count": 13,
   "metadata": {},
   "outputs": [
    {
     "data": {
      "image/png": "[encoded data removed]",
      "text/plain": [
       "<Figure size 432x288 with 1 Axes>"
      ]
     },
     "metadata": {},
     "output_type": "display_data"
    }
   ],
   "source": [
    "plt.loglog(\n",
    "    list(n_intersections.values()),\n",
    "    list([r.average for r in timings.values()]),\n",
    "    'o-',\n",
    ")\n",
    "plt.xlabel('N intersections')\n",
    "plt.ylabel('time, seconds')\n",
    "plt.gca().set_aspect(1.0)\n",
    "plt.grid()"
   ]
  },
  {
   "cell_type": "markdown",
   "metadata": {},
   "source": [
    "### vs number of chromosomes"
   ]
  },
  {
   "cell_type": "markdown",
   "metadata": {},
   "source": [
    "If we consider a genome of the same length, divided into more chromosomes, the timing is relatively unaffected."
   ]
  },
  {
   "cell_type": "code",
   "execution_count": 14,
   "metadata": {},
   "outputs": [
    {
     "name": "stdout",
     "output_type": "stream",
     "text": [
      "1.41 s ± 0 ns per loop (mean ± std. dev. of 1 run, 1 loop each)\n",
      "1.29 s ± 0 ns per loop (mean ± std. dev. of 1 run, 1 loop each)\n",
      "1.17 s ± 0 ns per loop (mean ± std. dev. of 1 run, 1 loop each)\n",
      "1.69 s ± 0 ns per loop (mean ± std. dev. of 1 run, 1 loop each)\n",
      "1.12 s ± 0 ns per loop (mean ± std. dev. of 1 run, 1 loop each)\n",
      "1.67 s ± 0 ns per loop (mean ± std. dev. of 1 run, 1 loop each)\n",
      "1.28 s ± 0 ns per loop (mean ± std. dev. of 1 run, 1 loop each)\n"
     ]
    }
   ],
   "source": [
    "timings = {}\n",
    "n_intersections = {}\n",
    "n = 1e5\n",
    "for n_chroms in [1, 3, 10, 30, 100, 300, 1000]:\n",
    "    df = make_random_intervals(n, n_chroms)\n",
    "    df2 = make_random_intervals(n, n_chroms)\n",
    "    timings[n_chroms] = %timeit -o -r 1 bioframe.overlap(df, df2)\n",
    "    n_intersections[n_chroms] = bioframe.overlap(df, df2).shape[0]\n"
   ]
  },
  {
   "cell_type": "markdown",
   "metadata": {},
   "source": [
    "Note this test preserves the number of intersections, which is likely why performance remains similar over the considered range."
   ]
  },
  {
   "cell_type": "code",
   "execution_count": 15,
   "metadata": {},
   "outputs": [
    {
     "data": {
      "text/plain": [
       "{1: 810032,\n",
       " 3: 807868,\n",
       " 10: 812042,\n",
       " 30: 808075,\n",
       " 100: 808861,\n",
       " 300: 803974,\n",
       " 1000: 785784}"
      ]
     },
     "execution_count": 15,
     "metadata": {},
     "output_type": "execute_result"
    }
   ],
   "source": [
    "n_intersections"
   ]
  },
  {
   "cell_type": "code",
   "execution_count": 16,
   "metadata": {},
   "outputs": [
    {
     "data": {
      "image/png": "[encoded data removed]",
      "text/plain": [
       "<Figure size 432x288 with 1 Axes>"
      ]
     },
     "metadata": {},
     "output_type": "display_data"
    }
   ],
   "source": [
    "plt.loglog(\n",
    "    list(timings.keys()),\n",
    "    list([r.average for r in timings.values()]),\n",
    "    'o-',\n",
    ")\n",
    "plt.ylim([1e-1, 10])\n",
    "plt.xlabel('# chromosomes')\n",
    "plt.ylabel('time, seconds')\n",
    "# plt.gca().set_aspect(1.0)\n",
    "plt.grid()"
   ]
  },
  {
   "cell_type": "markdown",
   "metadata": {},
   "source": [
    "### vs other parameters: join type, sorted or categorical inputs"
   ]
  },
  {
   "cell_type": "markdown",
   "metadata": {},
   "source": [
    "Note that default for overlap: `how='left', keep_order=True`, and the returned dataframe is sorted after the overlaps have been ascertained. Also note that `keep_order=True` is only a valid argument for `how='left'` as the order is not well-defined for inner or outer overlaps. "
   ]
  },
  {
   "cell_type": "code",
   "execution_count": 17,
   "metadata": {},
   "outputs": [
    {
     "name": "stdout",
     "output_type": "stream",
     "text": [
      "1.38 s ± 0 ns per loop (mean ± std. dev. of 1 run, 1 loop each)\n",
      "814 ms ± 0 ns per loop (mean ± std. dev. of 1 run, 1 loop each)\n"
     ]
    }
   ],
   "source": [
    "df = make_random_intervals()\n",
    "df2 = make_random_intervals()\n",
    "%timeit -r 1 bioframe.overlap(df, df2)\n",
    "%timeit -r 1 bioframe.overlap(df, df2, how='left', keep_order=False)"
   ]
  },
  {
   "cell_type": "code",
   "execution_count": 18,
   "metadata": {},
   "outputs": [
    {
     "name": "stdout",
     "output_type": "stream",
     "text": [
      "814 ms ± 0 ns per loop (mean ± std. dev. of 1 run, 1 loop each)\n",
      "640 ms ± 0 ns per loop (mean ± std. dev. of 1 run, 1 loop each)\n",
      "862 ms ± 0 ns per loop (mean ± std. dev. of 1 run, 1 loop each)\n"
     ]
    }
   ],
   "source": [
    "df = make_random_intervals()\n",
    "df2 = make_random_intervals()\n",
    "\n",
    "%timeit -r 1 bioframe.overlap(df, df2, how='outer')\n",
    "%timeit -r 1 bioframe.overlap(df, df2, how='inner')\n",
    "%timeit -r 1 bioframe.overlap(df, df2, how='left', keep_order=False)"
   ]
  },
  {
   "cell_type": "markdown",
   "metadata": {},
   "source": [
    "Note below that detection of overlaps takes a relatively small fraction of the execution time. The majority of the time the user-facing function spends on formatting the output table."
   ]
  },
  {
   "cell_type": "code",
   "execution_count": 19,
   "metadata": {},
   "outputs": [
    {
     "name": "stdout",
     "output_type": "stream",
     "text": [
      "1.41 s ± 0 ns per loop (mean ± std. dev. of 1 run, 1 loop each)\n",
      "510 ms ± 0 ns per loop (mean ± std. dev. of 1 run, 1 loop each)\n",
      "142 ms ± 0 ns per loop (mean ± std. dev. of 1 run, 10 loops each)\n",
      "165 ms ± 0 ns per loop (mean ± std. dev. of 1 run, 10 loops each)\n"
     ]
    }
   ],
   "source": [
    "df = make_random_intervals()\n",
    "df2 = make_random_intervals()\n",
    "\n",
    "%timeit -r 1 bioframe.overlap(df, df2)\n",
    "%timeit -r 1 bioframe.overlap(df, df2, how='inner')\n",
    "%timeit -r 1 bioframe.ops._overlap_intidxs(df, df2)\n",
    "%timeit -r 1 bioframe.ops._overlap_intidxs(df, df2, how='inner')"
   ]
  },
  {
   "cell_type": "markdown",
   "metadata": {},
   "source": [
    "Note that sorting inputs provides a moderate speedup, as well as storing chromosomes as categoricals "
   ]
  },
  {
   "cell_type": "code",
   "execution_count": 20,
   "metadata": {},
   "outputs": [
    {
     "name": "stdout",
     "output_type": "stream",
     "text": [
      "Default inputs (outer/inner joins):\n",
      "1.27 s ± 0 ns per loop (mean ± std. dev. of 1 run, 1 loop each)\n",
      "682 ms ± 0 ns per loop (mean ± std. dev. of 1 run, 1 loop each)\n",
      "Sorted inputs (outer/inner joins):\n",
      "1.26 s ± 0 ns per loop (mean ± std. dev. of 1 run, 1 loop each)\n",
      "563 ms ± 0 ns per loop (mean ± std. dev. of 1 run, 1 loop each)\n",
      "Categorical chromosomes (outer/inner joins):\n",
      "752 ms ± 0 ns per loop (mean ± std. dev. of 1 run, 1 loop each)\n",
      "306 ms ± 0 ns per loop (mean ± std. dev. of 1 run, 1 loop each)\n"
     ]
    }
   ],
   "source": [
    "print('Default inputs (outer/inner joins):')\n",
    "df = make_random_intervals()\n",
    "df2 = make_random_intervals()\n",
    "\n",
    "%timeit -r 1 bioframe.overlap(df, df2)\n",
    "%timeit -r 1 bioframe.overlap(df, df2, how='inner')\n",
    "\n",
    "print('Sorted inputs (outer/inner joins):')\n",
    "df_sorted = make_random_intervals(sort=True)\n",
    "df2_sorted = make_random_intervals(sort=True)\n",
    "\n",
    "%timeit -r 1 bioframe.overlap(df_sorted, df2_sorted)\n",
    "%timeit -r 1 bioframe.overlap(df_sorted, df2_sorted, how='inner')\n",
    "\n",
    "print('Categorical chromosomes (outer/inner joins):')\n",
    "df_cat = make_random_intervals(categorical_chroms=True)\n",
    "df2_cat = make_random_intervals(categorical_chroms=True)\n",
    "\n",
    "%timeit -r 1 bioframe.overlap(df_cat, df2_cat)\n",
    "%timeit -r 1 bioframe.overlap(df_cat, df2_cat, how='inner')\n"
   ]
  },
  {
   "cell_type": "markdown",
   "metadata": {},
   "source": [
    "## Vs Pyranges"
   ]
  },
  {
   "cell_type": "markdown",
   "metadata": {},
   "source": [
    "### Default arguments"
   ]
  },
  {
   "cell_type": "markdown",
   "metadata": {},
   "source": [
    "The core intersection function of PyRanges is faster, since PyRanges object splits intervals by chromosomes at the object construction stage"
   ]
  },
  {
   "cell_type": "code",
   "execution_count": 9,
   "metadata": {},
   "outputs": [],
   "source": [
    "def df2pr(df):\n",
    "    return pyranges.PyRanges(\n",
    "    chromosomes=df.chrom,\n",
    "    starts=df.start,\n",
    "    ends=df.end,\n",
    "    )"
   ]
  },
  {
   "cell_type": "code",
   "execution_count": 22,
   "metadata": {},
   "outputs": [
    {
     "name": "stdout",
     "output_type": "stream",
     "text": [
      "7.92 ms ± 0 ns per loop (mean ± std. dev. of 1 run, 100 loops each)\n",
      "3.53 ms ± 0 ns per loop (mean ± std. dev. of 1 run, 100 loops each)\n",
      "8.29 ms ± 0 ns per loop (mean ± std. dev. of 1 run, 100 loops each)\n",
      "4.08 ms ± 0 ns per loop (mean ± std. dev. of 1 run, 100 loops each)\n",
      "34.2 ms ± 0 ns per loop (mean ± std. dev. of 1 run, 10 loops each)\n",
      "11 ms ± 0 ns per loop (mean ± std. dev. of 1 run, 100 loops each)\n",
      "357 ms ± 0 ns per loop (mean ± std. dev. of 1 run, 1 loop each)\n",
      "105 ms ± 0 ns per loop (mean ± std. dev. of 1 run, 10 loops each)\n",
      "5.39 s ± 0 ns per loop (mean ± std. dev. of 1 run, 1 loop each)\n",
      "1.58 s ± 0 ns per loop (mean ± std. dev. of 1 run, 1 loop each)\n",
      "19 s ± 0 ns per loop (mean ± std. dev. of 1 run, 1 loop each)\n",
      "6.41 s ± 0 ns per loop (mean ± std. dev. of 1 run, 1 loop each)\n"
     ]
    }
   ],
   "source": [
    "timings_bf = {}\n",
    "timings_pr = {}\n",
    "for n in [1e2, 1e3, 1e4, 1e5, 1e6, 3e6]:\n",
    "    df = make_random_intervals(n=n, n_chroms=1)\n",
    "    df2 = make_random_intervals(n=n, n_chroms=1)\n",
    "    pr = df2pr(df)\n",
    "    pr2 = df2pr(df2)\n",
    "    timings_bf[n] = %timeit -o -r 1 bioframe.overlap(df, df2,how='inner')\n",
    "    timings_pr[n] = %timeit -o -r 1 pr.join(pr2)\n",
    "    "
   ]
  },
  {
   "cell_type": "code",
   "execution_count": 23,
   "metadata": {},
   "outputs": [
    {
     "data": {
      "text/plain": [
       "<matplotlib.legend.Legend at 0x7fa42a39d1f0>"
      ]
     },
     "execution_count": 23,
     "metadata": {},
     "output_type": "execute_result"
    },
    {
     "data": {
      "image/png": "[encoded data removed]",
      "text/plain": [
       "<Figure size 432x288 with 1 Axes>"
      ]
     },
     "metadata": {},
     "output_type": "display_data"
    }
   ],
   "source": [
    "plt.loglog(\n",
    "    list(timings_bf.keys()),\n",
    "    list([r.average for r in timings_bf.values()]),\n",
    "    'o-',\n",
    "    label='bioframe'\n",
    ")\n",
    "plt.loglog(\n",
    "    list(timings_pr.keys()),\n",
    "    list([r.average for r in timings_pr.values()]),\n",
    "    'o-',\n",
    "    label='pyranges'\n",
    ")\n",
    "\n",
    "plt.gca().set(\n",
    "    xlabel='N intervals',\n",
    "    ylabel='time, seconds',\n",
    "    aspect=1.0,\n",
    "    xticks=10**np.arange(2,6.1)\n",
    ")\n",
    "plt.grid()\n",
    "plt.legend()"
   ]
  },
  {
   "cell_type": "markdown",
   "metadata": {},
   "source": [
    "### With roundtrips to dataframes"
   ]
  },
  {
   "cell_type": "markdown",
   "metadata": {},
   "source": [
    "Note that pyranges performs useful calculations at the stage of creating a PyRanges object. Thus a direct comparison for one-off operations on pandas DataFrames between bioframe and pyranges should take this step into account. This roundrip is handled by `pyranges_intersect_dfs` below."
   ]
  },
  {
   "cell_type": "code",
   "execution_count": 7,
   "metadata": {},
   "outputs": [],
   "source": [
    "def pyranges_intersect_dfs(df, df2):\n",
    "    return df2pr(df).intersect(df2pr(df2)).as_df()"
   ]
  },
  {
   "cell_type": "code",
   "execution_count": 18,
   "metadata": {},
   "outputs": [
    {
     "name": "stdout",
     "output_type": "stream",
     "text": [
      "7.27 ms ± 0 ns per loop (mean ± std. dev. of 1 run, 100 loops each)\n",
      "11.9 ms ± 0 ns per loop (mean ± std. dev. of 1 run, 100 loops each)\n",
      "9.22 ms ± 0 ns per loop (mean ± std. dev. of 1 run, 100 loops each)\n",
      "12.9 ms ± 0 ns per loop (mean ± std. dev. of 1 run, 100 loops each)\n",
      "30.4 ms ± 0 ns per loop (mean ± std. dev. of 1 run, 10 loops each)\n",
      "25.5 ms ± 0 ns per loop (mean ± std. dev. of 1 run, 10 loops each)\n",
      "319 ms ± 0 ns per loop (mean ± std. dev. of 1 run, 1 loop each)\n",
      "168 ms ± 0 ns per loop (mean ± std. dev. of 1 run, 10 loops each)\n",
      "4.95 s ± 0 ns per loop (mean ± std. dev. of 1 run, 1 loop each)\n",
      "2.21 s ± 0 ns per loop (mean ± std. dev. of 1 run, 1 loop each)\n",
      "16.7 s ± 0 ns per loop (mean ± std. dev. of 1 run, 1 loop each)\n",
      "7.9 s ± 0 ns per loop (mean ± std. dev. of 1 run, 1 loop each)\n"
     ]
    }
   ],
   "source": [
    "timings_bf = {}\n",
    "timings_pr = {}\n",
    "for n in [1e2, 1e3, 1e4, 1e5, 1e6, 3e6]:\n",
    "    df = make_random_intervals(n=n, n_chroms=1)\n",
    "    df2 = make_random_intervals(n=n, n_chroms=1)\n",
    "    timings_bf[n] = %timeit -o -r 1 bioframe.overlap(df, df2, how='inner')\n",
    "    timings_pr[n] = %timeit -o -r 1 pyranges_intersect_dfs(df, df2)\n",
    "    "
   ]
  },
  {
   "cell_type": "code",
   "execution_count": 19,
   "metadata": {},
   "outputs": [
    {
     "data": {
      "text/plain": [
       "<matplotlib.legend.Legend at 0x2b885f168290>"
      ]
     },
     "execution_count": 19,
     "metadata": {},
     "output_type": "execute_result"
    },
    {
     "data": {
      "image/png": "[encoded data removed]",
      "text/plain": [
       "<Figure size 432x288 with 1 Axes>"
      ]
     },
     "metadata": {},
     "output_type": "display_data"
    }
   ],
   "source": [
    "plt.loglog(\n",
    "    list(timings_bf.keys()),\n",
    "    list([r.average for r in timings_bf.values()]),\n",
    "    'o-',\n",
    "    label='bioframe'\n",
    ")\n",
    "plt.loglog(\n",
    "    list(timings_pr.keys()),\n",
    "    list([r.average for r in timings_pr.values()]),\n",
    "    'o-',\n",
    "    label='pyranges'\n",
    ")\n",
    "plt.gca().set(\n",
    "    xlabel='N intervals',\n",
    "    ylabel='time, seconds',\n",
    "    aspect=1.0\n",
    ")\n",
    "plt.grid()\n",
    "plt.legend()"
   ]
  },
  {
   "cell_type": "markdown",
   "metadata": {},
   "source": [
    "### Memory usage"
   ]
  },
  {
   "cell_type": "code",
   "execution_count": 44,
   "metadata": {},
   "outputs": [],
   "source": [
    "from memory_profiler import memory_usage\n",
    "import time\n",
    "\n",
    "def sleep_before_after(func, sleep_sec=0.5):\n",
    "    def _f(*args, **kwargs):\n",
    "        time.sleep(sleep_sec)\n",
    "        func(*args, **kwargs)\n",
    "        time.sleep(sleep_sec)\n",
    "    return _f\n",
    "\n",
    "mem_usage_bf = {}\n",
    "mem_usage_pr = {}\n",
    "\n",
    "for n in [1e2, 1e3, 1e4, 1e5, 1e6, 3e6]:\n",
    "    df = make_random_intervals(n=n, n_chroms=1)\n",
    "    df2 = make_random_intervals(n=n, n_chroms=1)\n",
    "    mem_usage_bf[n] = memory_usage(\n",
    "        (sleep_before_after(bioframe.overlap), (df, df2), dict( how='inner')), \n",
    "        backend='psutil', \n",
    "        include_children=True,\n",
    "        interval=0.1,\n",
    "    max_usage=True)\n",
    "    mem_usage_pr[n] = memory_usage(\n",
    "        (sleep_before_after(pyranges_intersect_dfs), (df, df2), dict()), \n",
    "        backend='psutil', \n",
    "        include_children=True,\n",
    "        interval=0.1,\n",
    "     max_usage=True)\n",
    "    "
   ]
  },
  {
   "cell_type": "code",
   "execution_count": 50,
   "metadata": {},
   "outputs": [
    {
     "data": {
      "text/plain": [
       "(100, 10000)"
      ]
     },
     "execution_count": 50,
     "metadata": {},
     "output_type": "execute_result"
    },
    {
     "data": {
      "image/png": "[encoded data removed]",
      "text/plain": [
       "<Figure size 432x432 with 1 Axes>"
      ]
     },
     "metadata": {},
     "output_type": "display_data"
    }
   ],
   "source": [
    "plt.figure(figsize=(6,6))\n",
    "plt.loglog(\n",
    "    list(mem_usage_bf.keys()),\n",
    "    list(mem_usage_bf.values()),\n",
    "    'o-',\n",
    "    label='bioframe'\n",
    ")\n",
    "\n",
    "plt.loglog(\n",
    "    list(mem_usage_pr.keys()),\n",
    "    list(mem_usage_pr.values()),\n",
    "    'o-',\n",
    "    label='pyranges'\n",
    ")\n",
    "\n",
    "plt.gca().set(\n",
    "    xlabel='N intervals',\n",
    "    ylabel='Memory usage, Mb',\n",
    "    aspect=1.0\n",
    ")\n",
    "plt.grid()\n",
    "plt.legend()\n",
    "plt.ylim([10**2,10**4])"
   ]
  },
  {
   "cell_type": "code",
   "execution_count": 43,
   "metadata": {},
   "outputs": [
    {
     "ename": "TypeError",
     "evalue": "'float' object is not iterable",
     "output_type": "error",
     "traceback": [
      "\u001b[0;31m---------------------------------------------------------------------------\u001b[0m",
      "\u001b[0;31mTypeError\u001b[0m                                 Traceback (most recent call last)",
      "\u001b[0;32m/var/folders/4s/d866wm3s4zbc9m41334fxfwr0000gp/T/ipykernel_11696/1586400486.py\u001b[0m in \u001b[0;36m<module>\u001b[0;34m\u001b[0m\n\u001b[1;32m      2\u001b[0m plt.loglog(\n\u001b[1;32m      3\u001b[0m     \u001b[0mlist\u001b[0m\u001b[0;34m(\u001b[0m\u001b[0mmem_usage_bf\u001b[0m\u001b[0;34m.\u001b[0m\u001b[0mkeys\u001b[0m\u001b[0;34m(\u001b[0m\u001b[0;34m)\u001b[0m\u001b[0;34m)\u001b[0m\u001b[0;34m,\u001b[0m\u001b[0;34m\u001b[0m\u001b[0;34m\u001b[0m\u001b[0m\n\u001b[0;32m----> 4\u001b[0;31m     \u001b[0mlist\u001b[0m\u001b[0;34m(\u001b[0m\u001b[0;34m[\u001b[0m\u001b[0mmax\u001b[0m\u001b[0;34m(\u001b[0m\u001b[0mr\u001b[0m\u001b[0;34m)\u001b[0m \u001b[0;34m-\u001b[0m \u001b[0mr\u001b[0m\u001b[0;34m[\u001b[0m\u001b[0;36m4\u001b[0m\u001b[0;34m]\u001b[0m \u001b[0;32mfor\u001b[0m \u001b[0mr\u001b[0m \u001b[0;32min\u001b[0m \u001b[0mmem_usage_bf\u001b[0m\u001b[0;34m.\u001b[0m\u001b[0mvalues\u001b[0m\u001b[0;34m(\u001b[0m\u001b[0;34m)\u001b[0m\u001b[0;34m]\u001b[0m\u001b[0;34m)\u001b[0m\u001b[0;34m,\u001b[0m\u001b[0;34m\u001b[0m\u001b[0;34m\u001b[0m\u001b[0m\n\u001b[0m\u001b[1;32m      5\u001b[0m     \u001b[0;34m'o-'\u001b[0m\u001b[0;34m,\u001b[0m\u001b[0;34m\u001b[0m\u001b[0;34m\u001b[0m\u001b[0m\n\u001b[1;32m      6\u001b[0m     \u001b[0mlabel\u001b[0m\u001b[0;34m=\u001b[0m\u001b[0;34m'bioframe'\u001b[0m\u001b[0;34m\u001b[0m\u001b[0;34m\u001b[0m\u001b[0m\n",
      "\u001b[0;32m/var/folders/4s/d866wm3s4zbc9m41334fxfwr0000gp/T/ipykernel_11696/1586400486.py\u001b[0m in \u001b[0;36m<listcomp>\u001b[0;34m(.0)\u001b[0m\n\u001b[1;32m      2\u001b[0m plt.loglog(\n\u001b[1;32m      3\u001b[0m     \u001b[0mlist\u001b[0m\u001b[0;34m(\u001b[0m\u001b[0mmem_usage_bf\u001b[0m\u001b[0;34m.\u001b[0m\u001b[0mkeys\u001b[0m\u001b[0;34m(\u001b[0m\u001b[0;34m)\u001b[0m\u001b[0;34m)\u001b[0m\u001b[0;34m,\u001b[0m\u001b[0;34m\u001b[0m\u001b[0;34m\u001b[0m\u001b[0m\n\u001b[0;32m----> 4\u001b[0;31m     \u001b[0mlist\u001b[0m\u001b[0;34m(\u001b[0m\u001b[0;34m[\u001b[0m\u001b[0mmax\u001b[0m\u001b[0;34m(\u001b[0m\u001b[0mr\u001b[0m\u001b[0;34m)\u001b[0m \u001b[0;34m-\u001b[0m \u001b[0mr\u001b[0m\u001b[0;34m[\u001b[0m\u001b[0;36m4\u001b[0m\u001b[0;34m]\u001b[0m \u001b[0;32mfor\u001b[0m \u001b[0mr\u001b[0m \u001b[0;32min\u001b[0m \u001b[0mmem_usage_bf\u001b[0m\u001b[0;34m.\u001b[0m\u001b[0mvalues\u001b[0m\u001b[0;34m(\u001b[0m\u001b[0;34m)\u001b[0m\u001b[0;34m]\u001b[0m\u001b[0;34m)\u001b[0m\u001b[0;34m,\u001b[0m\u001b[0;34m\u001b[0m\u001b[0;34m\u001b[0m\u001b[0m\n\u001b[0m\u001b[1;32m      5\u001b[0m     \u001b[0;34m'o-'\u001b[0m\u001b[0;34m,\u001b[0m\u001b[0;34m\u001b[0m\u001b[0;34m\u001b[0m\u001b[0m\n\u001b[1;32m      6\u001b[0m     \u001b[0mlabel\u001b[0m\u001b[0;34m=\u001b[0m\u001b[0;34m'bioframe'\u001b[0m\u001b[0;34m\u001b[0m\u001b[0;34m\u001b[0m\u001b[0m\n",
      "\u001b[0;31mTypeError\u001b[0m: 'float' object is not iterable"
     ]
    },
    {
     "data": {
      "text/plain": [
       "<Figure size 576x432 with 0 Axes>"
      ]
     },
     "metadata": {},
     "output_type": "display_data"
    }
   ],
   "source": [
    "plt.figure(figsize=(8,6))\n",
    "plt.loglog(\n",
    "    list(mem_usage_bf.keys()),\n",
    "    list([max(r) - r[4] for r in mem_usage_bf.values()]),\n",
    "    'o-',\n",
    "    label='bioframe'\n",
    ")\n",
    "\n",
    "plt.loglog(\n",
    "    list(mem_usage_pr.keys()),\n",
    "    list([max(r) - r[4] for r in mem_usage_pr.values()]),\n",
    "    'o-',\n",
    "    label='pyranges'\n",
    ")\n",
    "\n",
    "plt.gca().set(\n",
    "    xlabel='N intervals',\n",
    "    ylabel='Memory usage, Mb',\n",
    "    aspect=1.0\n",
    ")\n",
    "plt.grid()\n",
    "plt.legend()"
   ]
  },
  {
   "cell_type": "markdown",
   "metadata": {},
   "source": [
    "The 2x memory consumption of bioframe is due to the fact that bioframe store genomic coordinates as int64 by default, while pyranges uses int32:"
   ]
  },
  {
   "cell_type": "code",
   "execution_count": 22,
   "metadata": {},
   "outputs": [
    {
     "name": "stdout",
     "output_type": "stream",
     "text": [
      "Bioframe dtypes:\n"
     ]
    },
    {
     "data": {
      "text/plain": [
       "chrom    object\n",
       "start     int64\n",
       "end       int64\n",
       "dtype: object"
      ]
     },
     "metadata": {},
     "output_type": "display_data"
    },
    {
     "name": "stdout",
     "output_type": "stream",
     "text": [
      "\n",
      "Pyranges dtypes:\n"
     ]
    },
    {
     "data": {
      "text/plain": [
       "Chromosome    category\n",
       "Start            int32\n",
       "End              int32\n",
       "dtype: object"
      ]
     },
     "metadata": {},
     "output_type": "display_data"
    }
   ],
   "source": [
    "print('Bioframe dtypes:')\n",
    "display(df.dtypes)\n",
    "print()\n",
    "print('Pyranges dtypes:')\n",
    "display(df2pr(df).dtypes)\n"
   ]
  },
  {
   "cell_type": "code",
   "execution_count": null,
   "metadata": {},
   "outputs": [],
   "source": [
    "### Combined performance figure.\n",
    "\n",
    "fig, axs = plt.subplot_mosaic(\n",
    "    'AAA.BBB',\n",
    "    figsize=(9.0,4))\n",
    "\n",
    "plt.sca(axs['A'])                   \n",
    "\n",
    "plt.text(-0.25, 1.0, 'A', horizontalalignment='center',\n",
    "    verticalalignment='center', transform=plt.gca().transAxes,\n",
    "        fontsize=19)\n",
    "\n",
    "plt.loglog(\n",
    "    list(timings_bf.keys()),\n",
    "    list([r.average for r in timings_bf.values()]),\n",
    "    'o-',\n",
    "    color='k',\n",
    "    label='bioframe'\n",
    ")\n",
    "plt.loglog(\n",
    "    list(timings_pr.keys()),\n",
    "    list([r.average for r in timings_pr.values()]),\n",
    "    'o-',\n",
    "    color='gray',\n",
    "    label='pyranges'\n",
    ")\n",
    "plt.gca().set(\n",
    "    xlabel='N intervals',\n",
    "    ylabel='time, s',\n",
    "    aspect=1.0,\n",
    "    xticks=10**np.arange(2,6.1),\n",
    "    yticks=10**np.arange(-3,0.1),\n",
    "\n",
    ")\n",
    "\n",
    "plt.grid()\n",
    "plt.legend()\n",
    "\n",
    "plt.sca(axs['B'])\n",
    "plt.text(-0.33, 1.0, 'B', horizontalalignment='center',\n",
    "    verticalalignment='center', transform=plt.gca().transAxes,\n",
    "        fontsize=19)\n",
    "plt.loglog(\n",
    "    list(mem_usage_bf.keys()),\n",
    "    list([max(r) - r[4] for r in mem_usage_bf.values()]),\n",
    "    'o-',\n",
    "    color='k',\n",
    "    label='bioframe'\n",
    ")\n",
    "\n",
    "plt.loglog(\n",
    "    list(mem_usage_pr.keys()),\n",
    "    list([max(r) - r[4] for r in mem_usage_pr.values()]),\n",
    "    'o-',\n",
    "    color='gray',\n",
    "    label='pyranges'\n",
    ")\n",
    "plt.gca().set(\n",
    "    xlabel='N intervals',\n",
    "    ylabel='Memory usage, Mb',\n",
    "    aspect=1.0,\n",
    "    xticks=10**np.arange(2,6.1),\n",
    ")\n",
    "\n",
    "plt.grid()\n",
    "plt.legend()"
   ]
  },
  {
   "cell_type": "code",
   "execution_count": null,
   "metadata": {},
   "outputs": [],
   "source": []
  },
  {
   "cell_type": "markdown",
   "metadata": {},
   "source": [
    "### Slicing "
   ]
  },
  {
   "cell_type": "code",
   "execution_count": 25,
   "metadata": {},
   "outputs": [
    {
     "name": "stdout",
     "output_type": "stream",
     "text": [
      "2.59 ms ± 0 ns per loop (mean ± std. dev. of 1 run, 100 loops each)\n",
      "1.06 ms ± 0 ns per loop (mean ± std. dev. of 1 run, 1000 loops each)\n",
      "2.55 ms ± 0 ns per loop (mean ± std. dev. of 1 run, 100 loops each)\n",
      "1.35 ms ± 0 ns per loop (mean ± std. dev. of 1 run, 1000 loops each)\n",
      "4.25 ms ± 0 ns per loop (mean ± std. dev. of 1 run, 100 loops each)\n",
      "4.21 ms ± 0 ns per loop (mean ± std. dev. of 1 run, 100 loops each)\n",
      "14.7 ms ± 0 ns per loop (mean ± std. dev. of 1 run, 100 loops each)\n",
      "30 ms ± 0 ns per loop (mean ± std. dev. of 1 run, 10 loops each)\n",
      "159 ms ± 0 ns per loop (mean ± std. dev. of 1 run, 10 loops each)\n",
      "357 ms ± 0 ns per loop (mean ± std. dev. of 1 run, 1 loop each)\n",
      "397 ms ± 0 ns per loop (mean ± std. dev. of 1 run, 1 loop each)\n",
      "1.13 s ± 0 ns per loop (mean ± std. dev. of 1 run, 1 loop each)\n"
     ]
    }
   ],
   "source": [
    "timings_slicing_bf = {}\n",
    "timings_slicing_pr = {}\n",
    "\n",
    "\n",
    "for n in [1e2, 1e3, 1e4, 1e5, 1e6, 3e6]:\n",
    "    df = make_random_intervals(n=n, n_chroms=1)\n",
    "    timings_slicing_bf[n] = %timeit -o -r 1 bioframe.select(df, ('chr1', n//2, n//4*3))\n",
    "    pr = df2pr(df)\n",
    "    timings_slicing_pr[n] = %timeit -o -r 1 pr['chr1', n//2:n//4*3]\n",
    "    \n"
   ]
  },
  {
   "cell_type": "code",
   "execution_count": 26,
   "metadata": {},
   "outputs": [
    {
     "data": {
      "text/plain": [
       "<matplotlib.legend.Legend at 0x2b885db32810>"
      ]
     },
     "execution_count": 26,
     "metadata": {},
     "output_type": "execute_result"
    },
    {
     "data": {
      "image/png": "[encoded data removed]",
      "text/plain": [
       "<Figure size 432x288 with 1 Axes>"
      ]
     },
     "metadata": {},
     "output_type": "display_data"
    }
   ],
   "source": [
    "plt.loglog(\n",
    "    list(timings_slicing_bf.keys()),\n",
    "    list([r.average for r in timings_bf.values()]),\n",
    "    'o-',\n",
    "    label='bioframe'\n",
    ")\n",
    "\n",
    "plt.loglog(\n",
    "    list(timings_slicing_pr.keys()),\n",
    "    list([r.average for r in timings_pr.values()]),\n",
    "    'o-',\n",
    "    label='pyranges'\n",
    ")\n",
    "plt.gca().set(\n",
    "    xlabel='N intervals',\n",
    "    ylabel='time, s',\n",
    "    aspect=1.0\n",
    ")\n",
    "plt.grid()\n",
    "plt.legend()"
   ]
  }
 ],
 "metadata": {
  "kernelspec": {
   "display_name": "Python 3 (ipykernel)",
   "language": "python",
   "name": "python3"
  },
  "language_info": {
   "codemirror_mode": {
    "name": "ipython",
    "version": 3
   },
   "file_extension": ".py",
   "mimetype": "text/x-python",
   "name": "python",
   "nbconvert_exporter": "python",
   "pygments_lexer": "ipython3",
   "version": "3.8.5"
  }
 },
 "nbformat": 4,
 "nbformat_minor": 4
}
